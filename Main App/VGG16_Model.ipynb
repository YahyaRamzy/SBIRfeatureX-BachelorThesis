{
 "cells": [
  {
   "cell_type": "code",
   "execution_count": 2,
   "metadata": {},
   "outputs": [],
   "source": [
    "import keras,os\n",
    "from keras.models import Sequential\n",
    "from keras.layers import Dense, Conv2D, MaxPool2D , Flatten\n",
    "from keras.preprocessing.image import ImageDataGenerator\n",
    "import numpy as np\n",
    "import numpy as np\n",
    "import pandas as pd\n",
    "%matplotlib inline\n",
    "import matplotlib.pyplot as plt\n",
    "from sklearn.metrics import accuracy_score, confusion_matrix, roc_curve, roc_auc_score\n",
    "from sklearn.model_selection import train_test_split, GridSearchCV\n",
    "import keras\n",
    "from keras.models import Sequential\n",
    "from keras.layers import Dense, Dropout, Flatten\n",
    "from keras.layers.convolutional import Conv2D, MaxPooling2D\n",
    "from keras.utils import np_utils\n",
    "from keras import backend as K\n"
   ]
  },
  {
   "cell_type": "code",
   "execution_count": 3,
   "metadata": {},
   "outputs": [
    {
     "name": "stdout",
     "output_type": "stream",
     "text": [
      "(123202, 784)\n",
      "(126121, 784)\n",
      "(127182, 784)\n"
     ]
    }
   ],
   "source": [
    "# load the data\n",
    "ant = np.load('E:/SBIR/Quickdraw/full_numpy_bitmap_ant.npy')\n",
    "bee = np.load('E:/SBIR/Quickdraw/full_numpy_bitmap_bee.npy')\n",
    "bear = np.load('E:/SBIR/Quickdraw/full_numpy_bitmap_bear.npy')\n",
    "bird = np.load('E:/SBIR/Quickdraw/full_numpy_bitmap_bird.npy')\n",
    "cat = np.load('E:/SBIR/Quickdraw/full_numpy_bitmap_cat.npy')\n",
    "cow = np.load('E:/SBIR/Quickdraw/full_numpy_bitmap_cow.npy')\n",
    "#crab = np.load('E:/SBIR/Quickdraw/full_numpy_bitmap_crab.npy')\n",
    "#crocodile = np.load('E:/SBIR/Quickdraw/full_numpy_bitmap_crocodile.npy')\n",
    "dog = np.load('E:/SBIR/Quickdraw/full_numpy_bitmap_dog.npy')\n",
    "dolphin = np.load('E:/SBIR/Quickdraw/full_numpy_bitmap_dolphin.npy')\n",
    "#dragon = np.load('E:/SBIR/Quickdraw/full_numpy_bitmap_dragon.npy')\n",
    "elephant = np.load('E:/SBIR/Quickdraw/full_numpy_bitmap_elephant.npy')\n",
    "#flamingo = np.load('E:/SBIR/Quickdraw/full_numpy_bitmap_flamingo.npy')\n",
    "frog = np.load('E:/SBIR/Quickdraw/full_numpy_bitmap_frog.npy')\n",
    "giraffe = np.load('E:/SBIR/Quickdraw/full_numpy_bitmap_giraffe.npy')\n",
    "#hedgehog = np.load('E:/SBIR/Quickdraw/full_numpy_bitmap_hedgehog.npy')\n",
    "horse = np.load('E:/SBIR/Quickdraw/full_numpy_bitmap_horse.npy')\n",
    "#kangaroo = np.load('E:/SBIR/Quickdraw/full_numpy_bitmap_kangaroo.npy')\n",
    "lion = np.load('E:/SBIR/Quickdraw/full_numpy_bitmap_lion.npy')\n",
    "#lobster = np.load('E:/SBIR/Quickdraw/full_numpy_bitmap_lobster.npy')\n",
    "monkey = np.load('E:/SBIR/Quickdraw/full_numpy_bitmap_monkey.npy')\n",
    "octopus = np.load('E:/SBIR/Quickdraw/full_numpy_bitmap_octopus.npy')\n",
    "#panda = np.load('E:/SBIR/Quickdraw/full_numpy_bitmap_panda.npy')\n",
    "#parrot = np.load('E:/SBIR/Quickdraw/full_numpy_bitmap_parrot.npy')\n",
    "#penguin = np.load('E:/SBIR/Quickdraw/full_numpy_bitmap_penguin.npy')\n",
    "pig = np.load('E:/SBIR/Quickdraw/full_numpy_bitmap_pig.npy')\n",
    "rabbit = np.load('E:/SBIR/Quickdraw/full_numpy_bitmap_rabbit.npy')\n",
    "#raccoon = np.load('E:/SBIR/Quickdraw/full_numpy_bitmap_raccoon.npy')\n",
    "#rhinoceros = np.load('E:/SBIR/Quickdraw/full_numpy_bitmap_rhinoceros.npy')\n",
    "#scorpion = np.load('E:/SBIR/Quickdraw/full_numpy_bitmap_scorpion.npy')\n",
    "#sea_turtle = np.load('E:/SBIR/Quickdraw/full_numpy_bitmap_sea turtle.npy')\n",
    "shark = np.load('E:/SBIR/Quickdraw/full_numpy_bitmap_shark.npy')\n",
    "sheep = np.load('E:/SBIR/Quickdraw/full_numpy_bitmap_sheep.npy')\n",
    "#snail = np.load('E:/SBIR/Quickdraw/full_numpy_bitmap_snail.npy')\n",
    "snake = np.load('E:/SBIR/Quickdraw/full_numpy_bitmap_snake.npy')\n",
    "#swan = np.load('E:/SBIR/Quickdraw/full_numpy_bitmap_swan.npy')\n",
    "#tiger = np.load('E:/SBIR/Quickdraw/full_numpy_bitmap_tiger.npy')\n",
    "#whale = np.load('E:/SBIR/Quickdraw/full_numpy_bitmap_whale.npy')\n",
    "##zebra = np.load('E:/SBIR/Quickdraw/full_numpy_bitmap_zebra.npy')\n",
    "\n",
    "\n",
    "print(cat.shape)\n",
    "print(sheep.shape)\n",
    "print(giraffe.shape)\n"
   ]
  },
  {
   "cell_type": "code",
   "execution_count": 4,
   "metadata": {},
   "outputs": [
    {
     "name": "stdout",
     "output_type": "stream",
     "text": [
      "(123202, 785)\n"
     ]
    }
   ],
   "source": [
    "ant = np.c_[ant, np.zeros(len(ant))]\n",
    "bee = np.c_[bee, np.ones(len(bee))]\n",
    "bear = np.c_[bear, 2*np.ones(len(bear))]\n",
    "bird = np.c_[bird, 3*np.ones(len(bird))]\n",
    "cat = np.c_[cat, 4*np.ones(len(cat))]\n",
    "cow = np.c_[cow, 5*np.ones(len(cow))]\n",
    "#crocodile = np.c_[crocodile, 6*np.ones(len(crocodile))]\n",
    "dog = np.c_[dog, 6*np.ones(len(dog))]\n",
    "dolphin = np.c_[dolphin, 7*np.ones(len(dolphin))]\n",
    "#dragon = np.c_[dragon, 8*np.ones(len(dragon))]\n",
    "elephant = np.c_[elephant, 8*np.ones(len(elephant))]\n",
    "#flamingo = np.c_[flamingo, 11*np.ones(len(flamingo))]\n",
    "#frog = np.c_[frog, 10*np.ones(len(frog))]\n",
    "giraffe = np.c_[giraffe, 9*np.ones(len(giraffe))]\n",
    "#hedgehog = np.c_[hedgehog, 14*np.ones(len(hedgehog))]\n",
    "horse = np.c_[horse, 10*np.ones(len(horse))]\n",
    "#kangaroo = np.c_[kangaroo, 16*np.ones(len(kangaroo))]\n",
    "lion = np.c_[lion, 11*np.ones(len(lion))]\n",
    "#lobster = np.c_[lobster, 18*np.ones(len(lobster))]\n",
    "monkey = np.c_[monkey, 12*np.ones(len(monkey))]\n",
    "octopus = np.c_[octopus, 13*np.ones(len(octopus))]\n",
    "#panda = np.c_[panda, 16*np.ones(len(panda))]\n",
    "#parrot = np.c_[parrot, 22*np.ones(len(parrot))]\n",
    "#penguin = np.c_[penguin, 23*np.ones(len(penguin))]\n",
    "pig = np.c_[pig, 14*np.ones(len(pig))]\n",
    "rabbit = np.c_[rabbit, 15*np.ones(len(rabbit))]\n",
    "#raccoon = np.c_[raccoon, 26*np.ones(len(raccoon))]\n",
    "#rhinoceros = np.c_[rhinoceros, 27*np.ones(len(rhinoceros))]\n",
    "#scorpion = np.c_[scorpion, 19*np.ones(len(scorpion))]\n",
    "#sea_turtle = np.c_[sea_turtle, 29*np.ones(len(sea_turtle))]\n",
    "shark = np.c_[shark, 16*np.ones(len(shark))]\n",
    "sheep = np.c_[sheep, 17*np.ones(len(sheep))]\n",
    "#snail = np.c_[snail, 32*np.ones(len(snail))]\n",
    "snake = np.c_[snake, 18*np.ones(len(snake))]\n",
    "#swan = np.c_[swan, 34*np.ones(len(swan))]\n",
    "#tiger = np.c_[tiger, 23*np.ones(len(tiger))]\n",
    "#whale = np.c_[whale, 36*np.ones(len(whale))]\n",
    "#zebra = np.c_[zebra, 37*np.ones(len(zebra))]\n",
    "\n",
    "\n",
    "\n",
    "print(cat.shape)"
   ]
  },
  {
   "cell_type": "code",
   "execution_count": 5,
   "metadata": {},
   "outputs": [],
   "source": [
    "# Merging arrays and splitting the features and labels\n",
    "X = np.concatenate((cat[:3000,:-1], giraffe[:3000,:-1], sheep[:3000,:-1], ant[:3000,:-1], octopus[:3000,:-1], ant[:3000, :-1], bee[:3000, :-1], bear[:3000, :-1], bird[:3000, :-1],cow[:3000, :-1],dog[:3000, :-1],dolphin[:3000, :-1],elephant[:3000, :-1],giraffe[:3000, :-1],horse[:3000, :-1],lion[:3000, :-1],monkey[:3000, :-1],pig[:3000, :-1],rabbit[:3000, :-1],shark[:3000, :-1],snake[:3000, :-1]), axis=0).astype('float32') # all columns but the last\n",
    "y = np.concatenate((cat[:3000,-1], giraffe[:3000,-1], sheep[:3000,-1], ant[:3000,-1], octopus[:3000,-1],  ant[:3000,-1],bee[:3000,-1],bear[:3000,-1],bird[:3000,-1],cow[:3000,-1],dog[:3000,-1],dolphin[:3000,-1],elephant[:3000,-1],giraffe[:3000,-1],horse[:3000,-1],lion[:3000,-1],monkey[:3000,-1],pig[:3000,-1],rabbit[:3000,-1],shark[:3000,-1],snake[:3000,-1]), axis=0).astype('float32') # the last column\n",
    "\n",
    "# We than split data between train and test (80 - 20 usual ratio). Normalizing the value between 0 and 1\n",
    "X_train, X_test, y_train, y_test = train_test_split(X/255.,y,test_size=0.2,random_state=0)"
   ]
  },
  {
   "cell_type": "code",
   "execution_count": 6,
   "metadata": {},
   "outputs": [
    {
     "name": "stdout",
     "output_type": "stream",
     "text": [
      "19\n"
     ]
    }
   ],
   "source": [
    "# one hot encode outputs\n",
    "y_train_cnn = np_utils.to_categorical(y_train)\n",
    "y_test_cnn = np_utils.to_categorical(y_test)\n",
    "num_classes = y_test_cnn.shape[1]\n",
    "print(num_classes)"
   ]
  },
  {
   "cell_type": "code",
   "execution_count": 31,
   "metadata": {},
   "outputs": [
    {
     "ename": "ValueError",
     "evalue": "cannot reshape array of size 39513600 into shape (50400,1,224,224)",
     "output_type": "error",
     "traceback": [
      "\u001b[1;31m---------------------------------------------------------------------------\u001b[0m",
      "\u001b[1;31mValueError\u001b[0m                                Traceback (most recent call last)",
      "\u001b[1;32m~\\AppData\\Local\\Temp\\ipykernel_1512\\1777198044.py\u001b[0m in \u001b[0;36m<module>\u001b[1;34m\u001b[0m\n\u001b[0;32m      1\u001b[0m \u001b[1;31m# reshape to be [samples][pixels][width][height]\u001b[0m\u001b[1;33m\u001b[0m\u001b[1;33m\u001b[0m\u001b[0m\n\u001b[1;32m----> 2\u001b[1;33m \u001b[0mX_train_cnn\u001b[0m \u001b[1;33m=\u001b[0m \u001b[0mX_train\u001b[0m\u001b[1;33m.\u001b[0m\u001b[0mreshape\u001b[0m\u001b[1;33m(\u001b[0m\u001b[0mX_train\u001b[0m\u001b[1;33m.\u001b[0m\u001b[0mshape\u001b[0m\u001b[1;33m[\u001b[0m\u001b[1;36m0\u001b[0m\u001b[1;33m]\u001b[0m\u001b[1;33m,\u001b[0m \u001b[1;36m1\u001b[0m\u001b[1;33m,\u001b[0m \u001b[1;36m224\u001b[0m\u001b[1;33m,\u001b[0m \u001b[1;36m224\u001b[0m\u001b[1;33m)\u001b[0m\u001b[1;33m.\u001b[0m\u001b[0mastype\u001b[0m\u001b[1;33m(\u001b[0m\u001b[1;34m'float32'\u001b[0m\u001b[1;33m)\u001b[0m\u001b[1;33m\u001b[0m\u001b[1;33m\u001b[0m\u001b[0m\n\u001b[0m\u001b[0;32m      3\u001b[0m \u001b[0mX_test_cnn\u001b[0m \u001b[1;33m=\u001b[0m \u001b[0mX_test\u001b[0m\u001b[1;33m.\u001b[0m\u001b[0mreshape\u001b[0m\u001b[1;33m(\u001b[0m\u001b[0mX_test\u001b[0m\u001b[1;33m.\u001b[0m\u001b[0mshape\u001b[0m\u001b[1;33m[\u001b[0m\u001b[1;36m0\u001b[0m\u001b[1;33m]\u001b[0m\u001b[1;33m,\u001b[0m \u001b[1;36m1\u001b[0m\u001b[1;33m,\u001b[0m \u001b[1;36m224\u001b[0m\u001b[1;33m,\u001b[0m \u001b[1;36m224\u001b[0m\u001b[1;33m)\u001b[0m\u001b[1;33m.\u001b[0m\u001b[0mastype\u001b[0m\u001b[1;33m(\u001b[0m\u001b[1;34m'float32'\u001b[0m\u001b[1;33m)\u001b[0m\u001b[1;33m\u001b[0m\u001b[1;33m\u001b[0m\u001b[0m\n",
      "\u001b[1;31mValueError\u001b[0m: cannot reshape array of size 39513600 into shape (50400,1,224,224)"
     ]
    }
   ],
   "source": [
    "# reshape to be [samples][pixels][width][height]\n",
    "X_train_cnn = X_train.reshape(X_train.shape[0], 1, 224, 224).astype('float32')\n",
    "X_test_cnn = X_test.reshape(X_test.shape[0], 1, 224, 224).astype('float32')"
   ]
  },
  {
   "cell_type": "code",
   "execution_count": 23,
   "metadata": {},
   "outputs": [],
   "source": [
    "from keras.optimizers import Adam\n",
    "def cnn_model():\n",
    "    model = Sequential()\n",
    "    model.add(Conv2D(input_shape=(28,28,1),filters=64,kernel_size=(3,3),padding=\"same\", activation=\"relu\"))\n",
    "    model.add(Conv2D(filters=64,kernel_size=(3,3),padding=\"same\", activation=\"relu\"))\n",
    "    model.add(MaxPool2D(pool_size=(2,2),strides=(2,2), padding=\"same\"))\n",
    "    model.add(Conv2D(filters=128, kernel_size=(3,3), padding=\"same\", activation=\"relu\"))\n",
    "    model.add(Conv2D(filters=128, kernel_size=(3,3), padding=\"same\", activation=\"relu\"))\n",
    "    model.add(MaxPool2D(pool_size=(2,2),strides=(2,2), padding=\"same\"))\n",
    "    model.add(Conv2D(filters=256, kernel_size=(3,3), padding=\"same\", activation=\"relu\"))\n",
    "    model.add(Conv2D(filters=256, kernel_size=(3,3), padding=\"same\", activation=\"relu\"))\n",
    "    model.add(Conv2D(filters=256, kernel_size=(3,3), padding=\"same\", activation=\"relu\"))\n",
    "    model.add(MaxPool2D(pool_size=(2,2),strides=(2,2), padding=\"same\"))\n",
    "    model.add(Conv2D(filters=512, kernel_size=(3,3), padding=\"same\", activation=\"relu\"))\n",
    "    model.add(Conv2D(filters=512, kernel_size=(3,3), padding=\"same\", activation=\"relu\"))\n",
    "    model.add(Conv2D(filters=512, kernel_size=(3,3), padding=\"same\", activation=\"relu\"))\n",
    "    model.add(MaxPool2D(pool_size=(2,2),strides=(2,2), padding=\"same\"))\n",
    "    model.add(Conv2D(filters=512, kernel_size=(3,3), padding=\"same\", activation=\"relu\"))\n",
    "    model.add(Conv2D(filters=512, kernel_size=(3,3), padding=\"same\", activation=\"relu\"))\n",
    "    model.add(Conv2D(filters=512, kernel_size=(3,3), padding=\"same\", activation=\"relu\"))\n",
    "    model.add(MaxPool2D(pool_size=(2,2),strides=(2,2), padding=\"same\"))\n",
    "    model.add(Flatten())\n",
    "    model.add(Dense(units=4096,activation=\"relu\"))\n",
    "    model.add(Dense(units=4096,activation=\"relu\"))\n",
    "    model.add(Dense(units=2, activation=\"softmax\"))\n",
    "    \n",
    "    opt = Adam(lr=0.001)\n",
    "    model.compile(optimizer=opt, loss=keras.losses.categorical_crossentropy, metrics=['accuracy'])\n",
    "    return model"
   ]
  },
  {
   "cell_type": "code",
   "execution_count": 29,
   "metadata": {},
   "outputs": [
    {
     "name": "stdout",
     "output_type": "stream",
     "text": [
      "WARNING:tensorflow:`period` argument is deprecated. Please use `save_freq` to specify the frequency in number of batches seen.\n"
     ]
    },
    {
     "name": "stderr",
     "output_type": "stream",
     "text": [
      "e:\\Ana\\lib\\site-packages\\keras\\optimizers\\optimizer_v2\\adam.py:117: UserWarning: The `lr` argument is deprecated, use `learning_rate` instead.\n",
      "  super().__init__(name, **kwargs)\n"
     ]
    },
    {
     "name": "stdout",
     "output_type": "stream",
     "text": [
      "Epoch 1/100\n"
     ]
    },
    {
     "ename": "ValueError",
     "evalue": "in user code:\n\n    File \"e:\\Ana\\lib\\site-packages\\keras\\engine\\training.py\", line 1249, in train_function  *\n        return step_function(self, iterator)\n    File \"e:\\Ana\\lib\\site-packages\\keras\\engine\\training.py\", line 1233, in step_function  **\n        outputs = model.distribute_strategy.run(run_step, args=(data,))\n    File \"e:\\Ana\\lib\\site-packages\\keras\\engine\\training.py\", line 1222, in run_step  **\n        outputs = model.train_step(data)\n    File \"e:\\Ana\\lib\\site-packages\\keras\\engine\\training.py\", line 1023, in train_step\n        y_pred = self(x, training=True)\n    File \"e:\\Ana\\lib\\site-packages\\keras\\utils\\traceback_utils.py\", line 70, in error_handler\n        raise e.with_traceback(filtered_tb) from None\n    File \"e:\\Ana\\lib\\site-packages\\keras\\engine\\input_spec.py\", line 295, in assert_input_compatibility\n        raise ValueError(\n\n    ValueError: Input 0 of layer \"sequential_10\" is incompatible with the layer: expected shape=(None, 28, 28, 1), found shape=(32, 1, 28, 28)\n",
     "output_type": "error",
     "traceback": [
      "\u001b[1;31m---------------------------------------------------------------------------\u001b[0m",
      "\u001b[1;31mValueError\u001b[0m                                Traceback (most recent call last)",
      "\u001b[1;32m<timed exec>\u001b[0m in \u001b[0;36m<module>\u001b[1;34m\u001b[0m\n",
      "\u001b[1;32me:\\Ana\\lib\\site-packages\\keras\\utils\\traceback_utils.py\u001b[0m in \u001b[0;36merror_handler\u001b[1;34m(*args, **kwargs)\u001b[0m\n\u001b[0;32m     68\u001b[0m             \u001b[1;31m# To get the full stack trace, call:\u001b[0m\u001b[1;33m\u001b[0m\u001b[1;33m\u001b[0m\u001b[0m\n\u001b[0;32m     69\u001b[0m             \u001b[1;31m# `tf.debugging.disable_traceback_filtering()`\u001b[0m\u001b[1;33m\u001b[0m\u001b[1;33m\u001b[0m\u001b[0m\n\u001b[1;32m---> 70\u001b[1;33m             \u001b[1;32mraise\u001b[0m \u001b[0me\u001b[0m\u001b[1;33m.\u001b[0m\u001b[0mwith_traceback\u001b[0m\u001b[1;33m(\u001b[0m\u001b[0mfiltered_tb\u001b[0m\u001b[1;33m)\u001b[0m \u001b[1;32mfrom\u001b[0m \u001b[1;32mNone\u001b[0m\u001b[1;33m\u001b[0m\u001b[1;33m\u001b[0m\u001b[0m\n\u001b[0m\u001b[0;32m     71\u001b[0m         \u001b[1;32mfinally\u001b[0m\u001b[1;33m:\u001b[0m\u001b[1;33m\u001b[0m\u001b[1;33m\u001b[0m\u001b[0m\n\u001b[0;32m     72\u001b[0m             \u001b[1;32mdel\u001b[0m \u001b[0mfiltered_tb\u001b[0m\u001b[1;33m\u001b[0m\u001b[1;33m\u001b[0m\u001b[0m\n",
      "\u001b[1;32me:\\Ana\\lib\\site-packages\\keras\\engine\\training.py\u001b[0m in \u001b[0;36mtf__train_function\u001b[1;34m(iterator)\u001b[0m\n\u001b[0;32m     13\u001b[0m                 \u001b[1;32mtry\u001b[0m\u001b[1;33m:\u001b[0m\u001b[1;33m\u001b[0m\u001b[1;33m\u001b[0m\u001b[0m\n\u001b[0;32m     14\u001b[0m                     \u001b[0mdo_return\u001b[0m \u001b[1;33m=\u001b[0m \u001b[1;32mTrue\u001b[0m\u001b[1;33m\u001b[0m\u001b[1;33m\u001b[0m\u001b[0m\n\u001b[1;32m---> 15\u001b[1;33m                     \u001b[0mretval_\u001b[0m \u001b[1;33m=\u001b[0m \u001b[0mag__\u001b[0m\u001b[1;33m.\u001b[0m\u001b[0mconverted_call\u001b[0m\u001b[1;33m(\u001b[0m\u001b[0mag__\u001b[0m\u001b[1;33m.\u001b[0m\u001b[0mld\u001b[0m\u001b[1;33m(\u001b[0m\u001b[0mstep_function\u001b[0m\u001b[1;33m)\u001b[0m\u001b[1;33m,\u001b[0m \u001b[1;33m(\u001b[0m\u001b[0mag__\u001b[0m\u001b[1;33m.\u001b[0m\u001b[0mld\u001b[0m\u001b[1;33m(\u001b[0m\u001b[0mself\u001b[0m\u001b[1;33m)\u001b[0m\u001b[1;33m,\u001b[0m \u001b[0mag__\u001b[0m\u001b[1;33m.\u001b[0m\u001b[0mld\u001b[0m\u001b[1;33m(\u001b[0m\u001b[0miterator\u001b[0m\u001b[1;33m)\u001b[0m\u001b[1;33m)\u001b[0m\u001b[1;33m,\u001b[0m \u001b[1;32mNone\u001b[0m\u001b[1;33m,\u001b[0m \u001b[0mfscope\u001b[0m\u001b[1;33m)\u001b[0m\u001b[1;33m\u001b[0m\u001b[1;33m\u001b[0m\u001b[0m\n\u001b[0m\u001b[0;32m     16\u001b[0m                 \u001b[1;32mexcept\u001b[0m\u001b[1;33m:\u001b[0m\u001b[1;33m\u001b[0m\u001b[1;33m\u001b[0m\u001b[0m\n\u001b[0;32m     17\u001b[0m                     \u001b[0mdo_return\u001b[0m \u001b[1;33m=\u001b[0m \u001b[1;32mFalse\u001b[0m\u001b[1;33m\u001b[0m\u001b[1;33m\u001b[0m\u001b[0m\n",
      "\u001b[1;31mValueError\u001b[0m: in user code:\n\n    File \"e:\\Ana\\lib\\site-packages\\keras\\engine\\training.py\", line 1249, in train_function  *\n        return step_function(self, iterator)\n    File \"e:\\Ana\\lib\\site-packages\\keras\\engine\\training.py\", line 1233, in step_function  **\n        outputs = model.distribute_strategy.run(run_step, args=(data,))\n    File \"e:\\Ana\\lib\\site-packages\\keras\\engine\\training.py\", line 1222, in run_step  **\n        outputs = model.train_step(data)\n    File \"e:\\Ana\\lib\\site-packages\\keras\\engine\\training.py\", line 1023, in train_step\n        y_pred = self(x, training=True)\n    File \"e:\\Ana\\lib\\site-packages\\keras\\utils\\traceback_utils.py\", line 70, in error_handler\n        raise e.with_traceback(filtered_tb) from None\n    File \"e:\\Ana\\lib\\site-packages\\keras\\engine\\input_spec.py\", line 295, in assert_input_compatibility\n        raise ValueError(\n\n    ValueError: Input 0 of layer \"sequential_10\" is incompatible with the layer: expected shape=(None, 28, 28, 1), found shape=(32, 1, 28, 28)\n"
     ]
    }
   ],
   "source": [
    "%%time\n",
    "from keras.callbacks import ModelCheckpoint, EarlyStopping\n",
    "np.random.seed(0)\n",
    "# build the model\n",
    "model_cnn = cnn_model()\n",
    "\n",
    "checkpoint = ModelCheckpoint(\"vgg16_1.h5\", monitor='val_acc', verbose=1, save_best_only=True, save_weights_only=False, mode='auto', period=1)\n",
    "early = EarlyStopping(monitor='val_acc', min_delta=0, patience=20, verbose=1, mode='auto')\n",
    "hist = model_cnn.fit(X_train_cnn, y_train_cnn, validation_data=(X_test_cnn, y_test_cnn), validation_steps=10,epochs=100,callbacks=[checkpoint,early])\n",
    "scores = model_cnn.evaluate(X_test_cnn, y_test_cnn, verbose=0)\n",
    "print('Final CNN accuracy: ', scores[1])"
   ]
  }
 ],
 "metadata": {
  "kernelspec": {
   "display_name": "base",
   "language": "python",
   "name": "python3"
  },
  "language_info": {
   "codemirror_mode": {
    "name": "ipython",
    "version": 3
   },
   "file_extension": ".py",
   "mimetype": "text/x-python",
   "name": "python",
   "nbconvert_exporter": "python",
   "pygments_lexer": "ipython3",
   "version": "3.9.13"
  },
  "orig_nbformat": 4
 },
 "nbformat": 4,
 "nbformat_minor": 2
}
