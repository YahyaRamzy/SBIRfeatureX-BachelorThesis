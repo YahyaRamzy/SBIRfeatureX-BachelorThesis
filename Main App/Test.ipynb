{
 "cells": [
  {
   "cell_type": "code",
   "execution_count": null,
   "metadata": {},
   "outputs": [],
   "source": [
    "import numpy as np\n",
    "from PIL import Image\n",
    "\n",
    "# Load the dataset of images\n",
    "images = np.load('my_dataset.npy')\n",
    "\n",
    "# Reshape the images to (224, 224, 3)\n",
    "resized_images = []\n",
    "for img in images:\n",
    "    # Open the image with PIL\n",
    "    pil_img = Image.fromarray(img)\n",
    "    # Resize the image to (224, 224) using Lanczos resampling\n",
    "    pil_img_resized = pil_img.resize((224, 224), resample=Image.LANCZOS)\n",
    "    # Convert the PIL image back to a NumPy array\n",
    "    resized_img = np.array(pil_img_resized)\n",
    "    # Add the resized image to the list of resized images\n",
    "    resized_images.append(resized_img)\n",
    "\n",
    "# Convert the list of resized images to a NumPy array\n",
    "resized_images = np.array(resized_images)\n",
    "\n",
    "# Normalize the pixel values of the images\n",
    "resized_images = resized_images / 255.0\n"
   ]
  },
  {
   "cell_type": "code",
   "execution_count": 1,
   "metadata": {},
   "outputs": [
    {
     "name": "stderr",
     "output_type": "stream",
     "text": [
      "C:\\Users\\Yahya Akel\\AppData\\Local\\Temp\\ipykernel_15820\\2802158220.py:13: DeprecationWarning: LANCZOS is deprecated and will be removed in Pillow 10 (2023-07-01). Use Resampling.LANCZOS instead.\n",
      "  pil_img_resized = pil_img.resize((224, 224), resample=Image.LANCZOS)\n"
     ]
    },
    {
     "ename": "MemoryError",
     "evalue": "Unable to allocate 46.6 GiB for an array with shape (124612, 224, 224) and data type float64",
     "output_type": "error",
     "traceback": [
      "\u001b[1;31m---------------------------------------------------------------------------\u001b[0m",
      "\u001b[1;31mMemoryError\u001b[0m                               Traceback (most recent call last)",
      "\u001b[1;32m~\\AppData\\Local\\Temp\\ipykernel_15820\\2802158220.py\u001b[0m in \u001b[0;36m<module>\u001b[1;34m\u001b[0m\n\u001b[0;32m     21\u001b[0m \u001b[1;33m\u001b[0m\u001b[0m\n\u001b[0;32m     22\u001b[0m \u001b[1;31m# Normalize the pixel values of the images\u001b[0m\u001b[1;33m\u001b[0m\u001b[1;33m\u001b[0m\u001b[0m\n\u001b[1;32m---> 23\u001b[1;33m \u001b[0mresized_images\u001b[0m \u001b[1;33m=\u001b[0m \u001b[0mresized_images\u001b[0m \u001b[1;33m/\u001b[0m \u001b[1;36m255.0\u001b[0m\u001b[1;33m\u001b[0m\u001b[1;33m\u001b[0m\u001b[0m\n\u001b[0m\u001b[0;32m     24\u001b[0m \u001b[1;33m\u001b[0m\u001b[0m\n\u001b[0;32m     25\u001b[0m \u001b[1;31m# Save the resized and normalized images to a new NumPy file\u001b[0m\u001b[1;33m\u001b[0m\u001b[1;33m\u001b[0m\u001b[0m\n",
      "\u001b[1;31mMemoryError\u001b[0m: Unable to allocate 46.6 GiB for an array with shape (124612, 224, 224) and data type float64"
     ]
    }
   ],
   "source": [
    "import numpy as np\n",
    "from PIL import Image\n",
    "\n",
    "# Load the dataset of images\n",
    "images = np.load('E:/SBIR/Quickdraw/full_numpy_bitmap_ant.npy')\n",
    "\n",
    "# Reshape the images to (224, 224, 3)\n",
    "resized_images = []\n",
    "for img in images:\n",
    "    # Open the image with PIL\n",
    "    pil_img = Image.fromarray(img)\n",
    "    # Resize the image to (224, 224) using Lanczos resampling\n",
    "    pil_img_resized = pil_img.resize((224, 224), resample=Image.LANCZOS)\n",
    "    # Convert the PIL image back to a NumPy array\n",
    "    resized_img = np.array(pil_img_resized)\n",
    "    # Add the resized image to the list of resized images\n",
    "    resized_images.append(resized_img)\n",
    "\n",
    "# Convert the list of resized images to a NumPy array\n",
    "resized_images = np.array(resized_images)\n",
    "\n",
    "# Normalize the pixel values of the images\n",
    "resized_images = resized_images / 255.0\n",
    "\n",
    "# Save the resized and normalized images to a new NumPy file\n",
    "np.save('E:/SBIR/Quickdraw/full_numpy_bitmap_antRES.npy', resized_images)\n"
   ]
  }
 ],
 "metadata": {
  "kernelspec": {
   "display_name": "base",
   "language": "python",
   "name": "python3"
  },
  "language_info": {
   "codemirror_mode": {
    "name": "ipython",
    "version": 3
   },
   "file_extension": ".py",
   "mimetype": "text/x-python",
   "name": "python",
   "nbconvert_exporter": "python",
   "pygments_lexer": "ipython3",
   "version": "3.9.13"
  },
  "orig_nbformat": 4
 },
 "nbformat": 4,
 "nbformat_minor": 2
}
